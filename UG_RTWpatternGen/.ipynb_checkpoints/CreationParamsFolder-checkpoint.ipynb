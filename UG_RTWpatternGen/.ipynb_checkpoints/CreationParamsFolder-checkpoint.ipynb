{
 "cells": [
  {
   "cell_type": "code",
   "execution_count": 1,
   "id": "c5117e49",
   "metadata": {},
   "outputs": [],
   "source": [
    "import pandas as pd\n",
    "import numpy as np\n",
    "import math\n",
    "import sys"
   ]
  },
  {
   "cell_type": "markdown",
   "id": "5014a451",
   "metadata": {},
   "source": [
    "Generacion de parametros exponenciales para RTW"
   ]
  },
  {
   "cell_type": "code",
   "execution_count": 2,
   "id": "c375f558",
   "metadata": {},
   "outputs": [
    {
     "data": {
      "text/plain": [
       "(54,\n",
       " array([ 1,  1,  1, 38, 40, 42, 44, 46, 49, 51, 54, 57, 60, 63, 66, 69, 73]),\n",
       " 17)"
      ]
     },
     "execution_count": 2,
     "metadata": {},
     "output_type": "execute_result"
    }
   ],
   "source": [
    "def paramsGene(a,b,c,d):\n",
    "    P1  =   [1 for i in range(c)]\n",
    "    P2  =   [max(int(math.floor(b*(1-math.exp(d))/(1-math.exp(d*a))*math.exp(d*i))),1) for i in range(c,a+c-1)]\n",
    "    P   =   np.concatenate([P1, P2])\n",
    "    return P\n",
    "\n",
    "a = 15\n",
    "b = 720\n",
    "c = 3\n",
    "d = 0.05\n",
    "P=paramsGene(a,b,c,d)\n",
    "P[10],P,len(P)"
   ]
  },
  {
   "cell_type": "markdown",
   "id": "53413edf",
   "metadata": {},
   "source": [
    "Creacion de Carpeta con todos los .params a probar"
   ]
  },
  {
   "cell_type": "code",
   "execution_count": 3,
   "id": "322e5468",
   "metadata": {},
   "outputs": [],
   "source": [
    "def createFolderParams(address):\n",
    "    for a in [15*_ for _ in [1,3,9,27]]:\n",
    "        for b in [100*__ for __ in [1,3,9,27]]:\n",
    "            for c in [3*___ for ___ in [1,3,9,27]]:\n",
    "                for d in [0.01*____ for ____ in [1,3,9,27]]:\n",
    "                    P=paramsGene(a,b,c,d)\n",
    "                    S=str(a)+\"_\"+str(b)+\"_\"+str(c)+\"_\"+str(d)+\".params\"\n",
    "                    S=address+'/'+S\n",
    "                    A=open(S,\"w\")\n",
    "                    A.write(\"[OPP]\\n\")\n",
    "                    A.write(\"ExecutionMethod=RTW\\n\")\n",
    "                    line=\"AggregationPattern=\"+str(P[0])\n",
    "                    for ii in range(1,len(P)):\n",
    "                        line+= \",\"+str(P[ii])\n",
    "                    A.write(line+\"\\n\")\n",
    "                    A.write(\"RTWMovement=10000 \\n\")\n",
    "                    A.close()\n",
    "                    \n",
    "createFolderParams('/Users/icipriano/Repositorios/DefinitiveUGTest/UG_RTWpatternGen/ParamsFolder')                  "
   ]
  },
  {
   "cell_type": "markdown",
   "id": "bfb55b66",
   "metadata": {},
   "source": [
    "Creacion del archivo para copy-paste desde mansci"
   ]
  },
  {
   "cell_type": "code",
   "execution_count": 1,
   "id": "bd05aedf",
   "metadata": {},
   "outputs": [],
   "source": [
    "#alicantools slurm opp --binary ~/OPP_SOLVER_1.12.x-jan27 -i Agricola -x ~/AuditoriaUGwRTW/1_Inputs/emptyParams.params\n",
    "def mansciLauncher(address):\n",
    "    S=address+'/'+ 'mansci_copypaste_launcher.txt'\n",
    "    addressmansci = '~/DefinitiveUGTest/UG_RTWpatternGen/ParamsFolder'\n",
    "    A=open(S,\"w\")\n",
    "    for name in ['UDM1_STOCK_N','Dominion10','Dominion5','Caverna','UG_Model_DSR_03CU','Catan3','Catan','Catan10','UDM1_STOCK_Y','Agricola10','Agricola60','Agricola','Dominion','Gloom30','Lareina','Gloom','Dominion3','Catan5','Agricola30']:\n",
    "        for a in [15*_ for _ in [1,3,9,27]]:\n",
    "            for b in [100*__ for __ in [1,3,9,27]]:\n",
    "                for c in [3*___ for ___ in [1,3,9,27]]:\n",
    "                    for d in [0.01*____ for ____ in [1,3,9,27]]:\n",
    "                        params = str(a)+\"_\"+str(b)+\"_\"+str(c)+\"_\"+str(d)+\".params\"\n",
    "                        linea='alicantools slurm opp ' + '--binary ~/BINARIO_TONHO_7FEB '  + '-i ' + name + ' -x ' + addressmansci +'/'+ params + '                                       '\n",
    "                        A.write(linea+\"\\n\")\n",
    "    A.close()\n",
    "\n",
    "mansciLauncher('/Users/icipriano/Repositorios/DefinitiveUGTest/UG_RTWpatternGen')"
   ]
  },
  {
   "cell_type": "markdown",
   "id": "ab8b5f0c",
   "metadata": {},
   "source": [
    "Creacion de los parametros para aggLP"
   ]
  },
  {
   "cell_type": "code",
   "execution_count": null,
   "id": "b1e8c59e",
   "metadata": {},
   "outputs": [],
   "source": [
    "def paramsGene(a,b,c,d):\n",
    "    P1  =   [1 for i in range(c)]\n",
    "    P2  =   [max(int(math.floor(b*(1-math.exp(d))/(1-math.exp(d*a))*math.exp(d*i))),1) for i in range(c,a+c-1)]\n",
    "    P   =   np.concatenate([P1, P2])\n",
    "    return P\n"
   ]
  },
  {
   "cell_type": "code",
   "execution_count": null,
   "id": "b2b0f733",
   "metadata": {},
   "outputs": [],
   "source": []
  },
  {
   "cell_type": "code",
   "execution_count": null,
   "id": "fc808691",
   "metadata": {},
   "outputs": [],
   "source": []
  }
 ],
 "metadata": {
  "kernelspec": {
   "display_name": "Python 3",
   "language": "python",
   "name": "python3"
  },
  "language_info": {
   "codemirror_mode": {
    "name": "ipython",
    "version": 3
   },
   "file_extension": ".py",
   "mimetype": "text/x-python",
   "name": "python",
   "nbconvert_exporter": "python",
   "pygments_lexer": "ipython3",
   "version": "3.9.10"
  },
  "latex_envs": {
   "LaTeX_envs_menu_present": true,
   "autoclose": false,
   "autocomplete": true,
   "bibliofile": "biblio.bib",
   "cite_by": "apalike",
   "current_citInitial": 1,
   "eqLabelWithNumbers": true,
   "eqNumInitial": 1,
   "hotkeys": {
    "equation": "Ctrl-E",
    "itemize": "Ctrl-I"
   },
   "labels_anchors": false,
   "latex_user_defs": false,
   "report_style_numbering": false,
   "user_envs_cfg": false
  }
 },
 "nbformat": 4,
 "nbformat_minor": 5
}
