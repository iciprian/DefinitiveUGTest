{
 "cells": [
  {
   "cell_type": "code",
   "execution_count": 1,
   "id": "c5117e49",
   "metadata": {},
   "outputs": [],
   "source": [
    "import pandas as pd\n",
    "import numpy as np\n",
    "import math\n",
    "import sys"
   ]
  },
  {
   "cell_type": "markdown",
   "id": "5014a451",
   "metadata": {},
   "source": [
    "Generacion de parametros exponenciales para RTW"
   ]
  },
  {
   "cell_type": "code",
   "execution_count": 4,
   "id": "c375f558",
   "metadata": {},
   "outputs": [],
   "source": [
    "def paramsGene(a):\n",
    "    P  =   [a for _ in range(3600)]\n",
    "    return P\n",
    "\n",
    "a = 2\n",
    "P=paramsGene(a)\n",
    "#P[10],P,len(P)"
   ]
  },
  {
   "cell_type": "markdown",
   "id": "53413edf",
   "metadata": {},
   "source": [
    "Creacion de Carpeta con todos los .params a probar"
   ]
  },
  {
   "cell_type": "code",
   "execution_count": 5,
   "id": "322e5468",
   "metadata": {},
   "outputs": [],
   "source": [
    "def createFolderParams(address):\n",
    "    for a in [2,3,5,10,30,60]:\n",
    "        P1=paramsGene(1)\n",
    "        P=paramsGene(a)\n",
    "        S=str(a)+\"_\"+\"aggLP\"+\".params\"\n",
    "        S=address+'/'+S\n",
    "        A=open(S,\"w\")\n",
    "        A.write(\"[OPP]\\n\")\n",
    "        A.write(\"ExecutionMethod=RTW\\n\")\n",
    "        line=\"AggregationPattern=\"+str(P1[0])\n",
    "        for ii in range(1,len(P1)):\n",
    "            line+= \",\"+str(P1[ii])\n",
    "        A.write(line+\"\\n\")\n",
    "        A.write(\"RTWMovement=10000 \\n\")\n",
    "        A.write(\"AggLPPattern=true \\n\")\n",
    "        line=\"AggLPPattern=\"+str(P[0])\n",
    "        for ii in range(1,len(P)):\n",
    "            line+= \",\"+str(P[ii])\n",
    "        A.write(line+\"\\n\")    \n",
    "        A.write(\"RTWAddEveryIterSol=true\\n\")\n",
    "        A.write(\"RTWTimePCTStop=1.0\\n\")\n",
    "        A.write(\"AggLPInputSolMethod=DistributeInvalidModes\\n\")\n",
    "        A.write(\"[PSP]\\n\")\n",
    "        A.write(\"ToposortODLevel=BestSolution\\n\")\n",
    "        A.write(\"ToposortPostUpitLevel=BestSolution\\n\")\n",
    "        A.close()\n",
    "                    \n",
    "createFolderParams('/Users/icipriano/Repositorios/DefinitiveUGTest/UG_aggLPpatternGen/ParamsFolder')                  "
   ]
  },
  {
   "cell_type": "markdown",
   "id": "bfb55b66",
   "metadata": {},
   "source": [
    "Creacion del archivo para copy-paste desde mansci"
   ]
  },
  {
   "cell_type": "code",
   "execution_count": 6,
   "id": "bd05aedf",
   "metadata": {},
   "outputs": [],
   "source": [
    "#alicantools slurm opp --binary ~/OPP_SOLVER_1.12.x-jan27 -i Agricola -x ~/AuditoriaUGwRTW/1_Inputs/emptyParams.params\n",
    "def mansciLauncher(address):\n",
    "    S=address+'/'+ 'mansci_copypaste_launcher.txt'\n",
    "    addressmansci = '~/DefinitiveUGTest/UG_aggLPpatternGen/ParamsFolder'\n",
    "    A=open(S,\"w\")\n",
    "    for name in ['Agricola60','Catan10','Agricola30','Catan5','Dominion10', 'Agricola10' , 'Cata3','Dominion5','Dominion3']:\n",
    "        for a in [2,3,5,10,30,60]:\n",
    "            params = str(a)+\"_\"+\"aggLP\"+\".params\"\n",
    "            linea='alicantools slurm opp ' + '--binary ~/BINARIO_TONHO_7FEB '  + '-i ' + name + ' -x ' + addressmansci +'/'+ params + '                                       '\n",
    "            A.write(linea+\"\\n\")\n",
    "    A.close()\n",
    "\n",
    "mansciLauncher('/Users/icipriano/Repositorios/DefinitiveUGTest/UG_aggLPpatternGen')"
   ]
  },
  {
   "cell_type": "markdown",
   "id": "ab8b5f0c",
   "metadata": {},
   "source": [
    "Creacion de los parametros para aggLP"
   ]
  },
  {
   "cell_type": "code",
   "execution_count": null,
   "id": "b2b0f733",
   "metadata": {},
   "outputs": [],
   "source": []
  },
  {
   "cell_type": "code",
   "execution_count": null,
   "id": "fc808691",
   "metadata": {},
   "outputs": [],
   "source": []
  }
 ],
 "metadata": {
  "kernelspec": {
   "display_name": "Python 3",
   "language": "python",
   "name": "python3"
  },
  "language_info": {
   "codemirror_mode": {
    "name": "ipython",
    "version": 3
   },
   "file_extension": ".py",
   "mimetype": "text/x-python",
   "name": "python",
   "nbconvert_exporter": "python",
   "pygments_lexer": "ipython3",
   "version": "3.9.10"
  }
 },
 "nbformat": 4,
 "nbformat_minor": 5
}
