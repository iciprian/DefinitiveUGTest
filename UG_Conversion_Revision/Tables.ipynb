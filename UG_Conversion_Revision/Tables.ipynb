{
 "cells": [
  {
   "cell_type": "code",
   "execution_count": 1,
   "id": "206edb1a",
   "metadata": {},
   "outputs": [],
   "source": [
    "#IMPORTS\n",
    "import pandas as pd\n",
    "import numpy as np\n",
    "import plotly.express as px\n",
    "pd.set_option('display.max_rows', 500)"
   ]
  },
  {
   "cell_type": "code",
   "execution_count": 2,
   "id": "17b79e5a",
   "metadata": {},
   "outputs": [],
   "source": [
    "#DATOS\n",
    "path = \"/Users/icipriano/Repositorios/Data/CheckInstances\""
   ]
  },
  {
   "cell_type": "code",
   "execution_count": 3,
   "id": "f8f07f58",
   "metadata": {},
   "outputs": [
    {
     "name": "stdout",
     "output_type": "stream",
     "text": [
      "/Users/icipriano/Repositorios/Data/CheckInstances/FoldercmpWcmp/stats.csv\n",
      "/Users/icipriano/Repositorios/Data/CheckInstances/FolderompWomp/stats.csv\n"
     ]
    }
   ],
   "source": [
    "#cmpWcmp\n",
    "folder = path + \"/FoldercmpWcmp/\"\n",
    "pname = folder + \"stats.csv\"\n",
    "print(pname)\n",
    "df_cmpWcmp = pd.read_csv(pname)\n",
    "df_cmpWcmp = df_cmpWcmp[df_cmpWcmp[\"FINISHED_OK\"]==True]\n",
    "\n",
    "#ompWomp\n",
    "folder = path + \"/FolderompWomp/\"\n",
    "pname = folder + \"stats.csv\"\n",
    "print(pname)\n",
    "df_ompWomp = pd.read_csv(pname)\n",
    "#df_ompWomp = df_ompWomp[df_ompWomp[\"FINISHED_OK\"]==True]"
   ]
  },
  {
   "cell_type": "code",
   "execution_count": 4,
   "id": "e920995d",
   "metadata": {},
   "outputs": [],
   "source": [
    "#f_ompWomp.columns"
   ]
  },
  {
   "cell_type": "code",
   "execution_count": 5,
   "id": "1ab179a3",
   "metadata": {},
   "outputs": [],
   "source": [
    "def recover_name(x):\n",
    "    word = [s for s in x.split('_')][0]\n",
    "    return word.split('.')[0]\n"
   ]
  },
  {
   "cell_type": "code",
   "execution_count": 6,
   "id": "fca7a5f9",
   "metadata": {},
   "outputs": [
    {
     "data": {
      "text/html": [
       "<div>\n",
       "<style scoped>\n",
       "    .dataframe tbody tr th:only-of-type {\n",
       "        vertical-align: middle;\n",
       "    }\n",
       "\n",
       "    .dataframe tbody tr th {\n",
       "        vertical-align: top;\n",
       "    }\n",
       "\n",
       "    .dataframe thead th {\n",
       "        text-align: right;\n",
       "    }\n",
       "</style>\n",
       "<table border=\"1\" class=\"dataframe\">\n",
       "  <thead>\n",
       "    <tr style=\"text-align: right;\">\n",
       "      <th></th>\n",
       "      <th>INSTANCE</th>\n",
       "      <th>BZ_NITERATIONS</th>\n",
       "      <th>BZ_SOLVETIME</th>\n",
       "      <th>BZ_UBOUND</th>\n",
       "      <th>BZ_LBOUND</th>\n",
       "      <th>TOPOSORT_OBJVAL</th>\n",
       "    </tr>\n",
       "  </thead>\n",
       "  <tbody>\n",
       "    <tr>\n",
       "      <th>0</th>\n",
       "      <td>Agricola60</td>\n",
       "      <td>47.0</td>\n",
       "      <td>543.64</td>\n",
       "      <td>2.591749e+09</td>\n",
       "      <td>2.591589e+09</td>\n",
       "      <td>2.579003e+09</td>\n",
       "    </tr>\n",
       "    <tr>\n",
       "      <th>1</th>\n",
       "      <td>Agricola30</td>\n",
       "      <td>60.0</td>\n",
       "      <td>2855.03</td>\n",
       "      <td>2.583467e+09</td>\n",
       "      <td>2.583308e+09</td>\n",
       "      <td>2.561661e+09</td>\n",
       "    </tr>\n",
       "    <tr>\n",
       "      <th>4</th>\n",
       "      <td>Catan10</td>\n",
       "      <td>61.0</td>\n",
       "      <td>2573.39</td>\n",
       "      <td>9.599718e+05</td>\n",
       "      <td>9.599217e+05</td>\n",
       "      <td>9.202005e+05</td>\n",
       "    </tr>\n",
       "    <tr>\n",
       "      <th>5</th>\n",
       "      <td>Catan5</td>\n",
       "      <td>72.0</td>\n",
       "      <td>12968.70</td>\n",
       "      <td>9.590236e+05</td>\n",
       "      <td>9.589316e+05</td>\n",
       "      <td>9.132967e+05</td>\n",
       "    </tr>\n",
       "    <tr>\n",
       "      <th>6</th>\n",
       "      <td>Catan3</td>\n",
       "      <td>81.0</td>\n",
       "      <td>36628.01</td>\n",
       "      <td>9.591067e+05</td>\n",
       "      <td>9.590338e+05</td>\n",
       "      <td>9.010078e+05</td>\n",
       "    </tr>\n",
       "    <tr>\n",
       "      <th>14</th>\n",
       "      <td>Lareina</td>\n",
       "      <td>13.0</td>\n",
       "      <td>4252.07</td>\n",
       "      <td>1.903275e+08</td>\n",
       "      <td>1.903233e+08</td>\n",
       "      <td>1.898808e+08</td>\n",
       "    </tr>\n",
       "  </tbody>\n",
       "</table>\n",
       "</div>"
      ],
      "text/plain": [
       "      INSTANCE  BZ_NITERATIONS  BZ_SOLVETIME     BZ_UBOUND     BZ_LBOUND  \\\n",
       "0   Agricola60            47.0        543.64  2.591749e+09  2.591589e+09   \n",
       "1   Agricola30            60.0       2855.03  2.583467e+09  2.583308e+09   \n",
       "4      Catan10            61.0       2573.39  9.599718e+05  9.599217e+05   \n",
       "5       Catan5            72.0      12968.70  9.590236e+05  9.589316e+05   \n",
       "6       Catan3            81.0      36628.01  9.591067e+05  9.590338e+05   \n",
       "14     Lareina            13.0       4252.07  1.903275e+08  1.903233e+08   \n",
       "\n",
       "    TOPOSORT_OBJVAL  \n",
       "0      2.579003e+09  \n",
       "1      2.561661e+09  \n",
       "4      9.202005e+05  \n",
       "5      9.132967e+05  \n",
       "6      9.010078e+05  \n",
       "14     1.898808e+08  "
      ]
     },
     "execution_count": 6,
     "metadata": {},
     "output_type": "execute_result"
    }
   ],
   "source": [
    "df_cmpWcmp = df_cmpWcmp.copy()\n",
    "df_cmpWcmp['INSTANCE']=df_cmpWcmp['INPUT_NAME'].transform(recover_name)\n",
    "df_cmpWcmp = df_cmpWcmp[['INSTANCE','BZ_NITERATIONS','BZ_SOLVETIME','BZ_UBOUND','BZ_LBOUND','TOPOSORT_OBJVAL']]\n",
    "df_cmpWcmp = df_cmpWcmp.round(2)\n",
    "df_cmpWcmp"
   ]
  },
  {
   "cell_type": "code",
   "execution_count": 8,
   "id": "9b557557",
   "metadata": {},
   "outputs": [
    {
     "ename": "KeyError",
     "evalue": "'INPUT_NAME'",
     "output_type": "error",
     "traceback": [
      "\u001b[0;31m---------------------------------------------------------------------------\u001b[0m",
      "\u001b[0;31mKeyError\u001b[0m                                  Traceback (most recent call last)",
      "\u001b[0;32m/usr/local/lib/python3.9/site-packages/pandas/core/indexes/base.py\u001b[0m in \u001b[0;36mget_loc\u001b[0;34m(self, key, method, tolerance)\u001b[0m\n\u001b[1;32m   3079\u001b[0m             \u001b[0;32mtry\u001b[0m\u001b[0;34m:\u001b[0m\u001b[0;34m\u001b[0m\u001b[0;34m\u001b[0m\u001b[0m\n\u001b[0;32m-> 3080\u001b[0;31m                 \u001b[0;32mreturn\u001b[0m \u001b[0mself\u001b[0m\u001b[0;34m.\u001b[0m\u001b[0m_engine\u001b[0m\u001b[0;34m.\u001b[0m\u001b[0mget_loc\u001b[0m\u001b[0;34m(\u001b[0m\u001b[0mcasted_key\u001b[0m\u001b[0;34m)\u001b[0m\u001b[0;34m\u001b[0m\u001b[0;34m\u001b[0m\u001b[0m\n\u001b[0m\u001b[1;32m   3081\u001b[0m             \u001b[0;32mexcept\u001b[0m \u001b[0mKeyError\u001b[0m \u001b[0;32mas\u001b[0m \u001b[0merr\u001b[0m\u001b[0;34m:\u001b[0m\u001b[0;34m\u001b[0m\u001b[0;34m\u001b[0m\u001b[0m\n",
      "\u001b[0;32mpandas/_libs/index.pyx\u001b[0m in \u001b[0;36mpandas._libs.index.IndexEngine.get_loc\u001b[0;34m()\u001b[0m\n",
      "\u001b[0;32mpandas/_libs/index.pyx\u001b[0m in \u001b[0;36mpandas._libs.index.IndexEngine.get_loc\u001b[0;34m()\u001b[0m\n",
      "\u001b[0;32mpandas/_libs/hashtable_class_helper.pxi\u001b[0m in \u001b[0;36mpandas._libs.hashtable.PyObjectHashTable.get_item\u001b[0;34m()\u001b[0m\n",
      "\u001b[0;32mpandas/_libs/hashtable_class_helper.pxi\u001b[0m in \u001b[0;36mpandas._libs.hashtable.PyObjectHashTable.get_item\u001b[0;34m()\u001b[0m\n",
      "\u001b[0;31mKeyError\u001b[0m: 'INPUT_NAME'",
      "\nThe above exception was the direct cause of the following exception:\n",
      "\u001b[0;31mKeyError\u001b[0m                                  Traceback (most recent call last)",
      "\u001b[0;32m<ipython-input-8-995b1601676b>\u001b[0m in \u001b[0;36m<module>\u001b[0;34m\u001b[0m\n\u001b[1;32m      1\u001b[0m \u001b[0mdf_ompWomp\u001b[0m \u001b[0;34m=\u001b[0m \u001b[0mdf_ompWomp\u001b[0m\u001b[0;34m.\u001b[0m\u001b[0mcopy\u001b[0m\u001b[0;34m(\u001b[0m\u001b[0;34m)\u001b[0m\u001b[0;34m\u001b[0m\u001b[0;34m\u001b[0m\u001b[0m\n\u001b[0;32m----> 2\u001b[0;31m \u001b[0mdf_ompWomp\u001b[0m\u001b[0;34m[\u001b[0m\u001b[0;34m'INSTANCE'\u001b[0m\u001b[0;34m]\u001b[0m\u001b[0;34m=\u001b[0m\u001b[0mdf_ompWomp\u001b[0m\u001b[0;34m[\u001b[0m\u001b[0;34m'INPUT_NAME'\u001b[0m\u001b[0;34m]\u001b[0m\u001b[0;34m.\u001b[0m\u001b[0mtransform\u001b[0m\u001b[0;34m(\u001b[0m\u001b[0mrecover_name\u001b[0m\u001b[0;34m)\u001b[0m\u001b[0;34m\u001b[0m\u001b[0;34m\u001b[0m\u001b[0m\n\u001b[0m\u001b[1;32m      3\u001b[0m \u001b[0mdf_ompWomp\u001b[0m \u001b[0;34m=\u001b[0m \u001b[0mdf_ompWomp\u001b[0m\u001b[0;34m[\u001b[0m\u001b[0;34m[\u001b[0m\u001b[0;34m'INSTANCE'\u001b[0m\u001b[0;34m,\u001b[0m\u001b[0;34m'BZ_NITERATIONS'\u001b[0m\u001b[0;34m,\u001b[0m\u001b[0;34m'BZ_SOLVETIME'\u001b[0m\u001b[0;34m,\u001b[0m\u001b[0;34m'TOPOSORT_OBJVAL'\u001b[0m\u001b[0;34m]\u001b[0m\u001b[0;34m]\u001b[0m\u001b[0;34m\u001b[0m\u001b[0;34m\u001b[0m\u001b[0m\n\u001b[1;32m      4\u001b[0m \u001b[0mdf_ompWomp\u001b[0m \u001b[0;34m=\u001b[0m \u001b[0mdf_ompWomp\u001b[0m\u001b[0;34m.\u001b[0m\u001b[0mround\u001b[0m\u001b[0;34m(\u001b[0m\u001b[0;36m2\u001b[0m\u001b[0;34m)\u001b[0m\u001b[0;34m\u001b[0m\u001b[0;34m\u001b[0m\u001b[0m\n\u001b[1;32m      5\u001b[0m \u001b[0mdf_ompWomp\u001b[0m\u001b[0;34m\u001b[0m\u001b[0;34m\u001b[0m\u001b[0m\n",
      "\u001b[0;32m/usr/local/lib/python3.9/site-packages/pandas/core/frame.py\u001b[0m in \u001b[0;36m__getitem__\u001b[0;34m(self, key)\u001b[0m\n\u001b[1;32m   3022\u001b[0m             \u001b[0;32mif\u001b[0m \u001b[0mself\u001b[0m\u001b[0;34m.\u001b[0m\u001b[0mcolumns\u001b[0m\u001b[0;34m.\u001b[0m\u001b[0mnlevels\u001b[0m \u001b[0;34m>\u001b[0m \u001b[0;36m1\u001b[0m\u001b[0;34m:\u001b[0m\u001b[0;34m\u001b[0m\u001b[0;34m\u001b[0m\u001b[0m\n\u001b[1;32m   3023\u001b[0m                 \u001b[0;32mreturn\u001b[0m \u001b[0mself\u001b[0m\u001b[0;34m.\u001b[0m\u001b[0m_getitem_multilevel\u001b[0m\u001b[0;34m(\u001b[0m\u001b[0mkey\u001b[0m\u001b[0;34m)\u001b[0m\u001b[0;34m\u001b[0m\u001b[0;34m\u001b[0m\u001b[0m\n\u001b[0;32m-> 3024\u001b[0;31m             \u001b[0mindexer\u001b[0m \u001b[0;34m=\u001b[0m \u001b[0mself\u001b[0m\u001b[0;34m.\u001b[0m\u001b[0mcolumns\u001b[0m\u001b[0;34m.\u001b[0m\u001b[0mget_loc\u001b[0m\u001b[0;34m(\u001b[0m\u001b[0mkey\u001b[0m\u001b[0;34m)\u001b[0m\u001b[0;34m\u001b[0m\u001b[0;34m\u001b[0m\u001b[0m\n\u001b[0m\u001b[1;32m   3025\u001b[0m             \u001b[0;32mif\u001b[0m \u001b[0mis_integer\u001b[0m\u001b[0;34m(\u001b[0m\u001b[0mindexer\u001b[0m\u001b[0;34m)\u001b[0m\u001b[0;34m:\u001b[0m\u001b[0;34m\u001b[0m\u001b[0;34m\u001b[0m\u001b[0m\n\u001b[1;32m   3026\u001b[0m                 \u001b[0mindexer\u001b[0m \u001b[0;34m=\u001b[0m \u001b[0;34m[\u001b[0m\u001b[0mindexer\u001b[0m\u001b[0;34m]\u001b[0m\u001b[0;34m\u001b[0m\u001b[0;34m\u001b[0m\u001b[0m\n",
      "\u001b[0;32m/usr/local/lib/python3.9/site-packages/pandas/core/indexes/base.py\u001b[0m in \u001b[0;36mget_loc\u001b[0;34m(self, key, method, tolerance)\u001b[0m\n\u001b[1;32m   3080\u001b[0m                 \u001b[0;32mreturn\u001b[0m \u001b[0mself\u001b[0m\u001b[0;34m.\u001b[0m\u001b[0m_engine\u001b[0m\u001b[0;34m.\u001b[0m\u001b[0mget_loc\u001b[0m\u001b[0;34m(\u001b[0m\u001b[0mcasted_key\u001b[0m\u001b[0;34m)\u001b[0m\u001b[0;34m\u001b[0m\u001b[0;34m\u001b[0m\u001b[0m\n\u001b[1;32m   3081\u001b[0m             \u001b[0;32mexcept\u001b[0m \u001b[0mKeyError\u001b[0m \u001b[0;32mas\u001b[0m \u001b[0merr\u001b[0m\u001b[0;34m:\u001b[0m\u001b[0;34m\u001b[0m\u001b[0;34m\u001b[0m\u001b[0m\n\u001b[0;32m-> 3082\u001b[0;31m                 \u001b[0;32mraise\u001b[0m \u001b[0mKeyError\u001b[0m\u001b[0;34m(\u001b[0m\u001b[0mkey\u001b[0m\u001b[0;34m)\u001b[0m \u001b[0;32mfrom\u001b[0m \u001b[0merr\u001b[0m\u001b[0;34m\u001b[0m\u001b[0;34m\u001b[0m\u001b[0m\n\u001b[0m\u001b[1;32m   3083\u001b[0m \u001b[0;34m\u001b[0m\u001b[0m\n\u001b[1;32m   3084\u001b[0m         \u001b[0;32mif\u001b[0m \u001b[0mtolerance\u001b[0m \u001b[0;32mis\u001b[0m \u001b[0;32mnot\u001b[0m \u001b[0;32mNone\u001b[0m\u001b[0;34m:\u001b[0m\u001b[0;34m\u001b[0m\u001b[0;34m\u001b[0m\u001b[0m\n",
      "\u001b[0;31mKeyError\u001b[0m: 'INPUT_NAME'"
     ]
    }
   ],
   "source": [
    "df_ompWomp = df_ompWomp.copy()\n",
    "df_ompWomp['INSTANCE']=df_ompWomp['INPUT_NAME'].transform(recover_name)\n",
    "df_ompWomp = df_ompWomp[['INSTANCE','BZ_NITERATIONS','BZ_SOLVETIME','TOPOSORT_OBJVAL']]\n",
    "df_ompWomp = df_ompWomp.round(2)\n",
    "df_ompWomp"
   ]
  },
  {
   "cell_type": "markdown",
   "id": "24a6b8b8",
   "metadata": {},
   "source": [
    "Catan"
   ]
  }
 ],
 "metadata": {
  "kernelspec": {
   "display_name": "Python 3",
   "language": "python",
   "name": "python3"
  },
  "language_info": {
   "codemirror_mode": {
    "name": "ipython",
    "version": 3
   },
   "file_extension": ".py",
   "mimetype": "text/x-python",
   "name": "python",
   "nbconvert_exporter": "python",
   "pygments_lexer": "ipython3",
   "version": "3.9.8"
  }
 },
 "nbformat": 4,
 "nbformat_minor": 5
}
